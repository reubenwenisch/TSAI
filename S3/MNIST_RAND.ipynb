{
  "nbformat": 4,
  "nbformat_minor": 0,
  "metadata": {
    "accelerator": "GPU",
    "colab": {
      "name": "MNIST_RAND",
      "provenance": [],
      "collapsed_sections": []
    },
    "kernelspec": {
      "display_name": "Python 3",
      "name": "python3"
    },
    "language_info": {
      "name": "python"
    }
  },
  "cells": [
    {
      "cell_type": "markdown",
      "metadata": {
        "id": "g2rZPXmA1Kx9"
      },
      "source": [
        "## Load Libraries"
      ]
    },
    {
      "cell_type": "code",
      "metadata": {
        "id": "2vf8v4Ezmhi7"
      },
      "source": [
        "import torch\n",
        "import torch.nn as nn\n",
        "import torch.nn.functional as F\n",
        "import torch.optim as optim\n",
        "import torchvision\n",
        "import torchvision.transforms as transforms\n",
        "from typing import Any, Callable, Dict, List, Optional, Tuple\n",
        "from PIL import Image\n",
        "import matplotlib.pyplot as plt\n",
        "import numpy as np"
      ],
      "execution_count": 1,
      "outputs": []
    },
    {
      "cell_type": "markdown",
      "metadata": {
        "id": "f8-1KZe_1Un_"
      },
      "source": [
        "## Define the Dataset Class\n",
        "Here MyDataset consists of using <br>\n",
        "#### Inputs and Data Representation <br>\n",
        "* Images from the MNIST dataset\n",
        "* A random number between 0 and 9 (represented as one hot encoded data) <br>\n",
        "#### Targets and Data Representation<br>\n",
        "* the \"number\" that was represented by the MNIST image\n",
        "* The \"sum\" of the MNIST number with the random number (not one hot encoded)\n",
        "#### Methods used\n",
        "The random number is generated using torch.randint and limited to 10 numbers.\n",
        "Inheriting from the torchvision.datasets.MNIST to use existing methods to load, download MNIST data to the system."
      ]
    },
    {
      "cell_type": "code",
      "metadata": {
        "id": "0QfP5yComju_"
      },
      "source": [
        "class MyDataset(torchvision.datasets.MNIST):\n",
        "    \"\"\"Inherit from the MNIST class to be able to download, \n",
        "    send MNIST data and create a random number between 0 and 9\"\"\"\n",
        "    def __init__(self,\n",
        "            root: str,\n",
        "            train: bool = True,\n",
        "            transform: Optional[Callable] = None,\n",
        "            target_transform: Optional[Callable] = None,\n",
        "            download: bool = False,):\n",
        "        super(MyDataset, self).__init__(root, download = download, transform=transform,target_transform=target_transform)\n",
        "        self.rand = 0\n",
        "\n",
        "    def __getitem__(self, index):\n",
        "        \"\"\"\n",
        "        Args:\n",
        "            index (int): Index\n",
        "\n",
        "        Returns:\n",
        "            tuple: (image, target) where target is index of the target class.\n",
        "        \"\"\"\n",
        "        img, target = self.data[index], int(self.targets[index])\n",
        "\n",
        "        # doing this so that it is consistent with all other datasets\n",
        "        # to return a PIL Image\n",
        "        img = Image.fromarray(img.numpy(), mode='L')\n",
        "\n",
        "        if self.transform is not None:\n",
        "            img = self.transform(img)\n",
        "\n",
        "        if self.target_transform is not None:\n",
        "            target = self.target_transform(target)\n",
        "        # Random number\n",
        "        self.rand = torch.randint(low=0,high=10,size=(1,))\n",
        "        one_hot = torch.nn.functional.one_hot(self.rand, num_classes=10)\n",
        "        sum = target + self.rand\n",
        "        return [img,one_hot], [target, sum]\n",
        "\n",
        "    def __len__(self):\n",
        "        return len(self.data)"
      ],
      "execution_count": 2,
      "outputs": []
    },
    {
      "cell_type": "markdown",
      "metadata": {
        "id": "OA_cnIeb3SHm"
      },
      "source": [
        "## Define the Datasets, DataLoaders, device"
      ]
    },
    {
      "cell_type": "code",
      "metadata": {
        "id": "YHJODDKtmpA8",
        "colab": {
          "base_uri": "https://localhost:8080/"
        },
        "outputId": "64088556-0e05-4d1d-d964-2102da812efe"
      },
      "source": [
        "# Device is auto selected as cgpu if available but code will still run in the absence of gpu\n",
        "device = torch.device('cuda:0' if torch.cuda.is_available() else 'cpu')\n",
        "\n",
        "# Dataset train object created from custom MyDataset class\n",
        "train_set = MyDataset(root = './data', train=True, download=True, transform=transforms.Compose([transforms.ToTensor()]))\n",
        "# Train loader is used to load the images in batches and shuffle them for training\n",
        "train_loader = torch.utils.data.DataLoader(train_set, batch_size=128, shuffle=True)\n",
        "\n",
        "inputs, targets = next(iter(train_loader))\n",
        "images, number = inputs"
      ],
      "execution_count": 3,
      "outputs": [
        {
          "output_type": "stream",
          "name": "stderr",
          "text": [
            "/usr/local/lib/python3.7/dist-packages/torchvision/datasets/mnist.py:498: UserWarning: The given NumPy array is not writeable, and PyTorch does not support non-writeable tensors. This means you can write to the underlying (supposedly non-writeable) NumPy array using the tensor. You may want to copy the array to protect its data or make it writeable before converting it to a tensor. This type of warning will be suppressed for the rest of this program. (Triggered internally at  /pytorch/torch/csrc/utils/tensor_numpy.cpp:180.)\n",
            "  return torch.from_numpy(parsed.astype(m[2], copy=False)).view(*s)\n"
          ]
        }
      ]
    },
    {
      "cell_type": "markdown",
      "metadata": {
        "id": "Yubk0kKF3vtE"
      },
      "source": [
        "## Display image and labels for verification\n",
        "Displaying 16 images but batch size is kept higher for faster training"
      ]
    },
    {
      "cell_type": "code",
      "metadata": {
        "colab": {
          "base_uri": "https://localhost:8080/",
          "height": 188
        },
        "id": "pKdGyRWbmrNC",
        "outputId": "f7211ba6-3c62-4ba4-c8f2-f826a2006db3"
      },
      "source": [
        "def matplotlib_imshow(img, one_channel=False):\n",
        "    if one_channel:\n",
        "        img = img.mean(dim=0)\n",
        "    img = img / 2 + 0.5     # unnormalize\n",
        "    npimg = img.numpy()\n",
        "    if one_channel:\n",
        "        plt.imshow(npimg, cmap=\"Greys\")\n",
        "    else:\n",
        "        plt.imshow(np.transpose(npimg, (1, 2, 0)))\n",
        "\n",
        "grid = torchvision.utils.make_grid(images[:16])\n",
        "matplotlib_imshow(grid, one_channel=True)\n",
        "print(\"Ground Truth Image Labels are\", targets[0][:16])\n",
        "print(\"random number input is\", number.squeeze().argmax(dim=1)[:16])\n",
        "print(\"Sum output is\", targets[1].squeeze()[:16])"
      ],
      "execution_count": 4,
      "outputs": [
        {
          "output_type": "stream",
          "name": "stdout",
          "text": [
            "Ground Truth Image Labels are tensor([7, 1, 3, 9, 8, 7, 1, 1, 5, 2, 2, 3, 9, 7, 3, 8])\n",
            "random number input is tensor([8, 4, 8, 1, 2, 8, 4, 9, 3, 1, 2, 5, 4, 1, 1, 0])\n",
            "Sum output is tensor([15,  5, 11, 10, 10, 15,  5, 10,  8,  3,  4,  8, 13,  8,  4,  8])\n"
          ]
        },
        {
          "output_type": "display_data",
          "data": {
            "image/png": "[encoded data removed]",
            "text/plain": [
              "<Figure size 432x288 with 1 Axes>"
            ]
          },
          "metadata": {
            "needs_background": "light"
          }
        }
      ]
    },
    {
      "cell_type": "markdown",
      "metadata": {
        "id": "GTZW-PfR3z9A"
      },
      "source": [
        "## Define the Deep Learning model\n",
        "* Here for the MNIST we have a conv block and a classifier block\n",
        "* Next the output of this MNIST is taken along with the random number into the mix block to generate the sum output"
      ]
    },
    {
      "cell_type": "code",
      "metadata": {
        "id": "ah-UW1aTmsjo"
      },
      "source": [
        "class MyModule(torch.nn.Module): #94%\n",
        "    def __init__(self, num_classes=10):\n",
        "        super(MyModule, self).__init__()\n",
        "        self.conv = nn.Sequential(\n",
        "            nn.Conv2d(in_channels=1, out_channels=64, kernel_size=5), #28 -> 24\n",
        "            nn.ReLU(),\n",
        "            nn.Conv2d(in_channels=64, out_channels=128, kernel_size=5), #24 -> 20\n",
        "            nn.ReLU(),\n",
        "            nn.Conv2d(in_channels=128, out_channels=10, kernel_size=1), # 20*20*10\n",
        "            nn.ReLU(),\n",
        "            nn.MaxPool2d(kernel_size=2) # 10*10*10\n",
        "        )\n",
        "        self.classifier = nn.Sequential(\n",
        "              torch.nn.Linear(1000, 512, bias = True),\n",
        "              nn.BatchNorm1d(512),\n",
        "              nn.ReLU(),\n",
        "              torch.nn.Linear(512, 256, bias = True),\n",
        "              nn.BatchNorm1d(256),\n",
        "              nn.ReLU(),\n",
        "              torch.nn.Linear(256, 10, bias = True),\n",
        "              )\n",
        "        self.mix = nn.Sequential(\n",
        "            torch.nn.Linear(20,50, bias = True),\n",
        "            nn.ReLU(),\n",
        "            nn.Linear(50,20, bias = True),\n",
        "        )\n",
        "\n",
        "    def forward(self, x, num):\n",
        "        x = self.conv(x)\n",
        "        x1 = torch.flatten(x,start_dim=1)\n",
        "        mnist = self.classifier(x1) \n",
        "        sum_in = torch.cat((mnist, num), dim=1)\n",
        "        n = self.mix(sum_in)\n",
        "        return mnist, n\n",
        "\n",
        "net = MyModule().to(device)"
      ],
      "execution_count": 6,
      "outputs": []
    },
    {
      "cell_type": "markdown",
      "metadata": {
        "id": "2ODEACdd5sR1"
      },
      "source": [
        "## Start Training Loop\n",
        "2 Loss functions used seperately because these are 2 seperate outputs with crossentropy ( Softmax+ NLL)"
      ]
    },
    {
      "cell_type": "code",
      "metadata": {
        "colab": {
          "base_uri": "https://localhost:8080/"
        },
        "id": "6j3a8yrCm16A",
        "outputId": "91649b1f-0082-4753-f969-6cb4815e4cf7"
      },
      "source": [
        "optimizer = torch.optim.SGD(net.parameters(), lr=0.1)\n",
        "criterion1 = nn.CrossEntropyLoss()\n",
        "criterion2 = nn.CrossEntropyLoss()\n",
        "net.train()\n",
        "# loop over the dataset multiple times\n",
        "for epoch in range(5):\n",
        "    running_loss = 0.0\n",
        "    correct_pred = 0\n",
        "    correct_rand = 0\n",
        "    for i, batches in enumerate(train_loader, 0):\n",
        "        inputs, targets = batches\n",
        "        images, number = inputs\n",
        "        labels, num_truth = targets\n",
        "        number, num_truth = number.squeeze().type(torch.float32), num_truth.squeeze().type(torch.float32)\n",
        "        inputs, labels, number, num_truth = images.to(device), labels.to(device), number.to(device), num_truth.to(device).long()\n",
        "\n",
        "        # zero the parameter gradients\n",
        "        optimizer.zero_grad()\n",
        "\n",
        "        # forward + backward + optimize\n",
        "        outputs, n = net(inputs, number)\n",
        "\n",
        "        one_hot_labels = F.one_hot(torch.tensor(labels.int()).long(), num_classes=10)\n",
        "        one_hot_truth = F.one_hot(torch.tensor(num_truth.int()).long(), num_classes=20)\n",
        "\n",
        "        loss1 = criterion1(outputs, labels)\n",
        "        loss2 = criterion2(n, num_truth) \n",
        "        loss = loss1 + loss2\n",
        "        loss.backward()\n",
        "        optimizer.step()\n",
        "        running_loss += loss1.item() + loss2.item()\n",
        "        # Accuracy\n",
        "        correct_pred += outputs.argmax(dim=1).eq(labels.squeeze().to(device)).sum()\n",
        "        correct_rand += n.argmax(dim=1).eq(num_truth).sum()\n",
        "        accuracy = (correct_pred/((i+1)*len(inputs)))\n",
        "        accuracy_rand = (correct_rand/((i+1)*len(num_truth)))\n",
        "        \n",
        "        if i % 100 == 0:\n",
        "          print(f\"epoch: {epoch} train loss: {(running_loss/(i+1)):.4f} mnist_accuracy: {(accuracy):.2f} rand_acc: {(accuracy_rand):.2f}\")\n",
        "    print('Loss: {}'.format(running_loss/len(train_set)))\n",
        "\n",
        "print('Finished Training')"
      ],
      "execution_count": 8,
      "outputs": [
        {
          "output_type": "stream",
          "name": "stderr",
          "text": [
            "/usr/local/lib/python3.7/dist-packages/torch/nn/functional.py:718: UserWarning: Named tensors and all their associated APIs are an experimental feature and subject to change. Please do not use them for anything important until they are released as stable. (Triggered internally at  /pytorch/c10/core/TensorImpl.h:1156.)\n",
            "  return torch.max_pool2d(input, kernel_size, stride, padding, dilation, ceil_mode)\n",
            "/usr/local/lib/python3.7/dist-packages/ipykernel_launcher.py:23: UserWarning: To copy construct from a tensor, it is recommended to use sourceTensor.clone().detach() or sourceTensor.clone().detach().requires_grad_(True), rather than torch.tensor(sourceTensor).\n",
            "/usr/local/lib/python3.7/dist-packages/ipykernel_launcher.py:24: UserWarning: To copy construct from a tensor, it is recommended to use sourceTensor.clone().detach() or sourceTensor.clone().detach().requires_grad_(True), rather than torch.tensor(sourceTensor).\n"
          ]
        },
        {
          "output_type": "stream",
          "name": "stdout",
          "text": [
            "epoch: 0 train loss: 5.3513 mnist_accuracy: 0.11 rand_acc: 0.08\n",
            "epoch: 0 train loss: 2.9840 mnist_accuracy: 0.91 rand_acc: 0.11\n",
            "epoch: 0 train loss: 2.7382 mnist_accuracy: 0.94 rand_acc: 0.12\n",
            "epoch: 0 train loss: 2.6110 mnist_accuracy: 0.95 rand_acc: 0.14\n",
            "epoch: 0 train loss: 2.5201 mnist_accuracy: 0.96 rand_acc: 0.16\n",
            "Loss: 0.019246196446971345\n",
            "epoch: 1 train loss: 2.0617 mnist_accuracy: 0.98 rand_acc: 0.30\n",
            "epoch: 1 train loss: 1.9656 mnist_accuracy: 0.99 rand_acc: 0.40\n",
            "epoch: 1 train loss: 1.8766 mnist_accuracy: 0.99 rand_acc: 0.44\n",
            "epoch: 1 train loss: 1.7779 mnist_accuracy: 0.99 rand_acc: 0.50\n",
            "epoch: 1 train loss: 1.6756 mnist_accuracy: 0.99 rand_acc: 0.55\n",
            "Loss: 0.012565091489274831\n",
            "epoch: 2 train loss: 1.1643 mnist_accuracy: 0.98 rand_acc: 0.79\n",
            "epoch: 2 train loss: 1.0400 mnist_accuracy: 0.99 rand_acc: 0.85\n",
            "epoch: 2 train loss: 0.9504 mnist_accuracy: 0.99 rand_acc: 0.88\n",
            "epoch: 2 train loss: 0.8686 mnist_accuracy: 0.99 rand_acc: 0.90\n",
            "epoch: 2 train loss: 0.7950 mnist_accuracy: 0.99 rand_acc: 0.92\n",
            "Loss: 0.005845460194496748\n",
            "epoch: 3 train loss: 0.4283 mnist_accuracy: 0.99 rand_acc: 0.98\n",
            "epoch: 3 train loss: 0.3994 mnist_accuracy: 0.99 rand_acc: 0.98\n",
            "epoch: 3 train loss: 0.3580 mnist_accuracy: 0.99 rand_acc: 0.99\n",
            "epoch: 3 train loss: 0.3296 mnist_accuracy: 0.99 rand_acc: 0.99\n",
            "epoch: 3 train loss: 0.3040 mnist_accuracy: 0.99 rand_acc: 0.99\n",
            "Loss: 0.0022759300541481935\n",
            "epoch: 4 train loss: 0.1712 mnist_accuracy: 1.00 rand_acc: 0.99\n",
            "epoch: 4 train loss: 0.1731 mnist_accuracy: 0.99 rand_acc: 0.99\n",
            "epoch: 4 train loss: 0.1652 mnist_accuracy: 0.99 rand_acc: 0.99\n",
            "epoch: 4 train loss: 0.1558 mnist_accuracy: 0.99 rand_acc: 0.99\n",
            "epoch: 4 train loss: 0.1481 mnist_accuracy: 0.99 rand_acc: 0.99\n",
            "Loss: 0.001122798312648471\n",
            "Finished Training\n"
          ]
        }
      ]
    },
    {
      "cell_type": "markdown",
      "metadata": {
        "id": "Xwr7zStH9ryL"
      },
      "source": [
        "## Create the Test Dataset"
      ]
    },
    {
      "cell_type": "code",
      "metadata": {
        "id": "yZyUwqf361_n"
      },
      "source": [
        "# Dataset test object created from custom MyDataset class\n",
        "test_set = MyDataset(root = './data', train=False, download=True, transform=transforms.Compose([transforms.ToTensor()]))\n",
        "# Train loader is used to load the images in batches and shuffle them for training\n",
        "test_loader = torch.utils.data.DataLoader(test_set, batch_size=128, shuffle=True)\n",
        "\n",
        "inputs, targets = next(iter(test_loader))\n",
        "images, number = inputs"
      ],
      "execution_count": 9,
      "outputs": []
    },
    {
      "cell_type": "markdown",
      "metadata": {
        "id": "kbvdKgZC-VsB"
      },
      "source": [
        "## Run Test Loop to print Accuracy"
      ]
    },
    {
      "cell_type": "code",
      "metadata": {
        "colab": {
          "base_uri": "https://localhost:8080/"
        },
        "id": "3H59GtkF8bh1",
        "outputId": "cf06a33d-0ad4-4647-f047-b32619dc63d5"
      },
      "source": [
        "# Testing the model\n",
        "net.eval()\n",
        "with torch.no_grad():\n",
        "    correct_pred = 0\n",
        "    correct_rand = 0\n",
        "    total = 0\n",
        "    total_losss =0\n",
        "    for batches in test_loader:\n",
        "        inputs, targets = batches\n",
        "        images, number = inputs\n",
        "        labels, num_truth = targets\n",
        "        number, num_truth = number.squeeze().type(torch.float32), num_truth.squeeze().type(torch.float32)\n",
        "        inputs, labels, number, num_truth = images.to(device), labels.to(device), number.to(device), num_truth.to(device).long()\n",
        "\n",
        "        outputs, n = net(inputs, number)\n",
        "        total += labels.size(0)\n",
        "        # Accuracy\n",
        "        correct_pred += outputs.argmax(dim=1).eq(labels.squeeze().to(device)).sum()\n",
        "        correct_rand += n.argmax(dim=1).eq(num_truth).sum()\n",
        "        accuracy = (correct_pred/((i+1)*len(inputs)))\n",
        "        accuracy_rand = (correct_rand/((i+1)*len(num_truth)))\n",
        "    print('Test Accuracy of the MNIST: {} %'.format(correct_pred / total))\n",
        "    print('Test Accuracy of the random number: {} %'.format(correct_rand / total))"
      ],
      "execution_count": 20,
      "outputs": [
        {
          "output_type": "stream",
          "name": "stdout",
          "text": [
            "Test Accuracy of the MNIST: 0.9934333562850952 %\n",
            "Test Accuracy of the random number: 0.9886500239372253 %\n"
          ]
        }
      ]
    }
  ]
}